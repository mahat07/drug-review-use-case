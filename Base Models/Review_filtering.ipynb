{
  "nbformat": 4,
  "nbformat_minor": 0,
  "metadata": {
    "colab": {
      "provenance": [],
      "gpuType": "T4"
    },
    "kernelspec": {
      "name": "python3",
      "display_name": "Python 3"
    },
    "language_info": {
      "name": "python"
    },
    "accelerator": "GPU"
  },
  "cells": [
    {
      "cell_type": "code",
      "source": [
        "from google.colab import drive\n",
        "drive.mount('/content/drive')"
      ],
      "metadata": {
        "colab": {
          "base_uri": "https://localhost:8080/"
        },
        "id": "MKx0N_lEbdKq",
        "outputId": "8f4984ef-737a-4e9f-de7b-c435e5e9e12e"
      },
      "execution_count": null,
      "outputs": [
        {
          "output_type": "stream",
          "name": "stdout",
          "text": [
            "Mounted at /content/drive\n"
          ]
        }
      ]
    },
    {
      "cell_type": "code",
      "execution_count": null,
      "metadata": {
        "id": "PdDC-1CfbXyy"
      },
      "outputs": [],
      "source": [
        "import pandas as pd\n",
        "\n",
        "# Sample dataset\n",
        "data = pd.read_csv('/content/drive/My Drive/archive drug/drugsComTrain_raw.csv')\n",
        "\n",
        "# Convert to DataFrame\n",
        "df = pd.DataFrame(data)\n",
        "\n",
        "def get_reviews_by_sentiment(drug_name, sentiment):\n",
        "    # Define sentiment thresholds\n",
        "    if sentiment == 'positive':\n",
        "        filtered_reviews = df[(df['drugName'] == drug_name) & (df['rating'] >= 7)]\n",
        "    elif sentiment == 'negative':\n",
        "        filtered_reviews = df[(df['drugName'] == drug_name) & (df['rating'] <= 4)]\n",
        "    elif sentiment == 'neutral':\n",
        "        filtered_reviews = df[(df['drugName'] == drug_name) & (df['rating'] == 5)]\n",
        "    else:\n",
        "        return \"Invalid sentiment. Choose from 'positive', 'negative', or 'neutral'.\"\n",
        "\n",
        "    return filtered_reviews['review'].tolist()"
      ]
    },
    {
      "cell_type": "code",
      "source": [
        "# Example usage\n",
        "drug_name = 'Aspirin'\n",
        "sentiment = 'positive'\n",
        "reviews = get_reviews_by_sentiment(drug_name, sentiment)\n",
        "print(f\"Reviews for {drug_name} with {sentiment} sentiment: {reviews}\")"
      ],
      "metadata": {
        "colab": {
          "base_uri": "https://localhost:8080/"
        },
        "id": "CrQG1G3kbaIL",
        "outputId": "61bb2e74-3912-48db-f15a-6870675a429d"
      },
      "execution_count": null,
      "outputs": [
        {
          "output_type": "stream",
          "name": "stdout",
          "text": [
            "Reviews for Aspirin with positive sentiment: ['\"Used Bayer Advanced for back pain before bed, slept through the night, which I haven&#039;t done for months. I take it every night before bed and can actually sleep.\"', '\"It&#039;s awesome.\"', '\"I have used this aspirin for about 30 years to help with rheumatoid arthritis. I miss it terribly when I have to stop it for tests or medical procedures. The coating helps to keep it from hurting my stomach. \"', '\"It actually works.\"', '\"For me aspirin works better than ibuprofen,acetaminophen,naproxen,ir relieves tension headaches and even back pain.\"', '\"I have rheumatoid arthritis in my shoulders and hands. My doc has had me try several different NSAID&#039;s for it. I was having the best results with plain old ibuprofen. But I was having to take 16 - 20 200 mg tablets a day. I saw Stanback at a local discount store and got 2 boxes. I was suffering terribly from the shoulder and hand pain and was willing to try anything. I tried Stanback, and it was like a miracle for me! If you&#039;re not familiar with Stanback it is a headache powder you can either take mixed with a liquid or pour straight on the tongue. It&#039;s very old school but works well and doesn&#039;t even taste bad.\"', '\"I have been taking aspirin for the last 35 years or so for headache related pain. It is far more effective than Tylenol or ibuprofen. It&#039;s pretty safe and very affordable.\"', '\"Old and reliable.\"', '\"I have severe sciatica as a result of cyst on L5.  Epidural failed, gave relief for a week before pain returned, and I am headed toward surgery to remove the cyst. I have found aspirin works better than Aleve (2 every 8 hours or 3 every 12 hours per my doc is OK)  , Advil and Tylenol, 10 MG Norco and Gabapentin although I am stepping up bit by bit to a full dose of gabapentin and maybe eventually that will help. On a scale of 1-10 my pain is a 10 and the aspirin will cut it down to a 3-4 for a couple of hours.\"', '\"I had short respiration and pain in the side left of the head and neck, very rapid palpitations and with fatigue. I took an aspirin and the next day I was feeling good or better.\"', '\"Aspirin suits me best because I do not suffer from H-Pylori,otherwise,it may cause ulcers although Lansoprasol or Omepresol can prevent the stomach issues.\\r\\nThe reason that Aspirin is best is because it helps along with Vit C and Omega 3 to lubricate the joints which is essential for painless movement.\\r\\nI sometimes inter-change with Ibuprofen which because it is coated lasts longer than Aspirin but I have no knowledge of Naproxen.\"', '\"After having ulcers the doctor recomended bufferin for pain, that was 40 years ago. I have relied on that and extra strength bufferin since then. Since it was taken off the market I have tried others but they do not work as well. Please please bring the bufferin back.\"', '\"This would be the second most effective NSAID for me, behind Motrin but well ahead of Aleve or other OTC&#039;s of any type - It is my preference for &quot;cold and flu&quot; because it breaks a fever pretty quick.   If there is a downside, it&#039;s that if I take 2 or 3 a day for more than a week, it definitely causes a ringing in my ears, loud.   Short-term or simple pain, the old school aspirin just works.\"', '\"May not always numb it, but makes it bearable.\"', '\"No side effects,  easy to take, no more symptoms since taking.\"', '\"I have been using 150mg of aspirin everyday for the last 4 years. I have confirmed Diabetes and borderline high blood pressure. I don&#039;t find any side effects. The rest of the health parameters are okay.\"', '\"I am 35 year old male with moderate to severe sciatica (pain from buttock to ankle) due to bulging disc L5 - S1.  I found taking a 1000mg dose gave significant and almost total relief for about 1 to 2 hours.  The effect was greater if the pain was not too severe, the best results came from taking Aspirin before the pain got severe.  I also found that taking Aspirin without food made it work faster but I suffered stomach aches a consequence.\"', '\"My family has a history of heart attack so I always carry aspirin with me just in case.  I found a wristband on the market that stores 2 aspirin in it.  It is a great and convenient method of carrying aspirin around so I don&#039;t need a bulky bottle of it in my pocket.  It is called the Beatfirst Aspirin Wristband for anyone else with the same problem.\"']\n"
          ]
        }
      ]
    },
    {
      "cell_type": "code",
      "source": [
        "# Example usage\n",
        "drug_name = 'Aspirin'\n",
        "sentiment = 'negative'\n",
        "reviews = get_reviews_by_sentiment(drug_name, sentiment)\n",
        "print(f\"Reviews for {drug_name} with {sentiment} sentiment: {reviews}\")"
      ],
      "metadata": {
        "colab": {
          "base_uri": "https://localhost:8080/"
        },
        "id": "_VNVMzPyb6Wf",
        "outputId": "8e782f08-7f89-4830-ef22-810616665735"
      },
      "execution_count": null,
      "outputs": [
        {
          "output_type": "stream",
          "name": "stdout",
          "text": [
            "Reviews for Aspirin with negative sentiment: ['\"I have the worst back pain and I took these pills and they did nothing for me. I spent 12 dollars on this stuff for nothing.\"', '\"I have severe, chronic sciatica.  Aspirin does next to nothing for the pain.  Naproxen or ibuprofen are far superior.\"']\n"
          ]
        }
      ]
    },
    {
      "cell_type": "code",
      "source": [
        "# Example usage\n",
        "drug_name = 'Aspirin'\n",
        "sentiment = 'neutral'\n",
        "reviews = get_reviews_by_sentiment(drug_name, sentiment)\n",
        "print(f\"Reviews for {drug_name} with {sentiment} sentiment: {reviews}\")"
      ],
      "metadata": {
        "colab": {
          "base_uri": "https://localhost:8080/"
        },
        "id": "W8h3noPBcCqG",
        "outputId": "9244a760-6850-4320-a21e-f2719edd6b12"
      },
      "execution_count": null,
      "outputs": [
        {
          "output_type": "stream",
          "name": "stdout",
          "text": [
            "Reviews for Aspirin with neutral sentiment: []\n"
          ]
        }
      ]
    },
    {
      "cell_type": "code",
      "source": [
        "df = pd.DataFrame(data)\n",
        "\n",
        "def get_reviews_by_sentiment(drug_name, sentiment):\n",
        "    # Define sentiment thresholds\n",
        "    if sentiment == 'positive':\n",
        "        filtered_reviews = df[(df['drugName'] == drug_name) & (df['rating'] >= 7)]\n",
        "    elif sentiment == 'negative':\n",
        "        filtered_reviews = df[(df['drugName'] == drug_name) & (df['rating'] <= 4)]\n",
        "    elif sentiment == 'neutral':\n",
        "        filtered_reviews = df[(df['drugName'] == drug_name) & (df['rating'] == 5)]\n",
        "    else:\n",
        "        return \"Invalid sentiment. Choose from 'Positive', 'Negative', or 'Neutral'.\"\n",
        "\n",
        "    # Return up to 10 reviews\n",
        "    return filtered_reviews['review'].head(10).tolist()\n",
        "\n",
        "# Example usage\n",
        "drug_name = 'Aspirin'\n",
        "sentiment = 'positive'\n",
        "reviews = get_reviews_by_sentiment(drug_name, sentiment)\n",
        "print(f\"Reviews for {drug_name} with {sentiment} sentiment:\")\n",
        "for review in reviews:\n",
        "    print(review)"
      ],
      "metadata": {
        "colab": {
          "base_uri": "https://localhost:8080/"
        },
        "id": "6RCdj20ecIt5",
        "outputId": "a99a4f86-4ed8-43e0-c6af-9da092488e13"
      },
      "execution_count": null,
      "outputs": [
        {
          "output_type": "stream",
          "name": "stdout",
          "text": [
            "Reviews for Aspirin with positive sentiment:\n",
            "\"Used Bayer Advanced for back pain before bed, slept through the night, which I haven&#039;t done for months. I take it every night before bed and can actually sleep.\"\n",
            "\"It&#039;s awesome.\"\n",
            "\"I have used this aspirin for about 30 years to help with rheumatoid arthritis. I miss it terribly when I have to stop it for tests or medical procedures. The coating helps to keep it from hurting my stomach. \"\n",
            "\"It actually works.\"\n",
            "\"For me aspirin works better than ibuprofen,acetaminophen,naproxen,ir relieves tension headaches and even back pain.\"\n",
            "\"I have rheumatoid arthritis in my shoulders and hands. My doc has had me try several different NSAID&#039;s for it. I was having the best results with plain old ibuprofen. But I was having to take 16 - 20 200 mg tablets a day. I saw Stanback at a local discount store and got 2 boxes. I was suffering terribly from the shoulder and hand pain and was willing to try anything. I tried Stanback, and it was like a miracle for me! If you&#039;re not familiar with Stanback it is a headache powder you can either take mixed with a liquid or pour straight on the tongue. It&#039;s very old school but works well and doesn&#039;t even taste bad.\"\n",
            "\"I have been taking aspirin for the last 35 years or so for headache related pain. It is far more effective than Tylenol or ibuprofen. It&#039;s pretty safe and very affordable.\"\n",
            "\"Old and reliable.\"\n",
            "\"I have severe sciatica as a result of cyst on L5.  Epidural failed, gave relief for a week before pain returned, and I am headed toward surgery to remove the cyst. I have found aspirin works better than Aleve (2 every 8 hours or 3 every 12 hours per my doc is OK)  , Advil and Tylenol, 10 MG Norco and Gabapentin although I am stepping up bit by bit to a full dose of gabapentin and maybe eventually that will help. On a scale of 1-10 my pain is a 10 and the aspirin will cut it down to a 3-4 for a couple of hours.\"\n",
            "\"I had short respiration and pain in the side left of the head and neck, very rapid palpitations and with fatigue. I took an aspirin and the next day I was feeling good or better.\"\n"
          ]
        }
      ]
    },
    {
      "cell_type": "code",
      "source": [],
      "metadata": {
        "id": "Gf2G-S7LccXg"
      },
      "execution_count": null,
      "outputs": []
    },
    {
      "cell_type": "code",
      "source": [],
      "metadata": {
        "id": "3fN04NToBn1J"
      },
      "execution_count": null,
      "outputs": []
    }
  ]
}