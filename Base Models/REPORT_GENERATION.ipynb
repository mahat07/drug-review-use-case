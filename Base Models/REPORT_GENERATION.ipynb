{
  "nbformat": 4,
  "nbformat_minor": 0,
  "metadata": {
    "colab": {
      "provenance": []
    },
    "kernelspec": {
      "name": "python3",
      "display_name": "Python 3"
    },
    "language_info": {
      "name": "python"
    }
  },
  "cells": [
    {
      "cell_type": "code",
      "source": [
        "from google.colab import drive\n",
        "drive.mount('/content/drive')"
      ],
      "metadata": {
        "colab": {
          "base_uri": "https://localhost:8080/"
        },
        "id": "Xrxk2FFa7GdG",
        "outputId": "0806954c-4d40-4c67-efc0-2d3d01259a8f"
      },
      "execution_count": null,
      "outputs": [
        {
          "output_type": "stream",
          "name": "stdout",
          "text": [
            "Mounted at /content/drive\n"
          ]
        }
      ]
    },
    {
      "cell_type": "code",
      "source": [
        "pip install reportlab"
      ],
      "metadata": {
        "colab": {
          "base_uri": "https://localhost:8080/"
        },
        "id": "juChE5Xy7Pkv",
        "outputId": "e75f3095-5212-4570-ff1d-b72446784039"
      },
      "execution_count": null,
      "outputs": [
        {
          "output_type": "stream",
          "name": "stdout",
          "text": [
            "Collecting reportlab\n",
            "  Downloading reportlab-4.2.2-py3-none-any.whl.metadata (1.4 kB)\n",
            "Requirement already satisfied: pillow>=9.0.0 in /usr/local/lib/python3.10/dist-packages (from reportlab) (9.4.0)\n",
            "Requirement already satisfied: chardet in /usr/local/lib/python3.10/dist-packages (from reportlab) (5.2.0)\n",
            "Downloading reportlab-4.2.2-py3-none-any.whl (1.9 MB)\n",
            "\u001b[2K   \u001b[90m━━━━━━━━━━━━━━━━━━━━━━━━━━━━━━━━━━━━━━━━\u001b[0m \u001b[32m1.9/1.9 MB\u001b[0m \u001b[31m39.9 MB/s\u001b[0m eta \u001b[36m0:00:00\u001b[0m\n",
            "\u001b[?25hInstalling collected packages: reportlab\n",
            "Successfully installed reportlab-4.2.2\n"
          ]
        }
      ]
    },
    {
      "cell_type": "code",
      "execution_count": null,
      "metadata": {
        "id": "mPE60znIaRXS",
        "colab": {
          "base_uri": "https://localhost:8080/"
        },
        "outputId": "249cb0d0-99b8-45df-8f68-42a8ce1370e8"
      },
      "outputs": [
        {
          "output_type": "stream",
          "name": "stdout",
          "text": [
            "Enter the drug name: duac\n",
            "PDF report generated: duac_report.pdf\n"
          ]
        }
      ],
      "source": [
        "import pandas as pd\n",
        "from reportlab.lib.pagesizes import letter\n",
        "from reportlab.lib.styles import getSampleStyleSheet, ParagraphStyle\n",
        "from reportlab.platypus import SimpleDocTemplate, Paragraph, Spacer, Frame, PageTemplate\n",
        "from reportlab.lib.units import inch\n",
        "from reportlab.lib.utils import ImageReader\n",
        "from PIL import Image\n",
        "\n",
        "# Load the medicine dataset with dtype specification\n",
        "medicine_dataset_path = '/content/drive/My Drive/medicine_dataset.csv'\n",
        "dtype_spec = {42: str, 43: str, 44: str, 45: str, 46: str, 47: str, 48: str}  # specify appropriate columns\n",
        "medicine_data = pd.read_csv(medicine_dataset_path, dtype=dtype_spec)\n",
        "\n",
        "# Paths to images\n",
        "background_image_first_page_path = '/content/Image01.jpg'  # Background image 1\n",
        "background_image_other_pages_path ='/content/Image01.jpg'  # Background image 2\n",
        "\n",
        "# Check if the image files are valid\n",
        "try:\n",
        "    for image_path in [background_image_first_page_path, background_image_other_pages_path]:\n",
        "        with open(image_path, 'rb') as img_file:\n",
        "            img = Image.open(img_file)\n",
        "            img.verify()  # Verify that it is an image\n",
        "except (IOError, FileNotFoundError, Image.UnidentifiedImageError) as e:\n",
        "    print(f\"Error with the image file: {e}\")\n",
        "    exit()\n",
        "\n",
        "def generate_pdf_report(drug_name):\n",
        "    drug_info = medicine_data[medicine_data['name'].str.contains(drug_name, case=False, na=False)]\n",
        "    if drug_info.empty:\n",
        "        print(\"No information found for the drug:\", drug_name)\n",
        "        return\n",
        "\n",
        "    file_name = f\"{drug_name}_report.pdf\"\n",
        "    doc = SimpleDocTemplate(file_name, pagesize=letter)\n",
        "\n",
        "    # Styles\n",
        "    styles = getSampleStyleSheet()\n",
        "    normal_style = ParagraphStyle(name='Normal', fontName='Helvetica', fontSize=12, spaceAfter=12)\n",
        "    header_style = ParagraphStyle(name='Header', fontName='Helvetica-Bold', fontSize=14, spaceAfter=12)\n",
        "\n",
        "    # Story for the document content\n",
        "    story = []\n",
        "\n",
        "    # Add initial spacer to ensure the text starts from the white area\n",
        "    story.append(Spacer(1, 3.5 * inch))\n",
        "\n",
        "    # Drug Name and ID\n",
        "    drug_name_heading = Paragraph(f\"<b>Drug Name:</b> {drug_info['name'].values[0]}\", header_style)\n",
        "    drug_id = Paragraph(f\"<b>ID:</b> {drug_info['id'].values[0]}\", normal_style)\n",
        "    story.append(drug_name_heading)\n",
        "    story.append(drug_id)\n",
        "    story.append(Spacer(1, 12))\n",
        "\n",
        "    # Use\n",
        "    use_heading = Paragraph(\"<b>Use:</b>\", header_style)\n",
        "    use_content = Paragraph(\" \".join(drug_info[[col for col in drug_info.columns if 'use' in col]].dropna(axis=1).values[0]), normal_style)\n",
        "    story.append(use_heading)\n",
        "    story.append(use_content)\n",
        "    story.append(Spacer(1, 12))\n",
        "\n",
        "    # Substitutes\n",
        "    substitutes_heading = Paragraph(\"<b>Substitutes:</b>\", header_style)\n",
        "    substitutes_list = drug_info[[col for col in drug_info.columns if 'substitute' in col]].dropna(axis=1).values[0]\n",
        "    story.append(substitutes_heading)\n",
        "    for substitute in substitutes_list:\n",
        "        story.append(Paragraph(substitute, normal_style))\n",
        "    story.append(Spacer(1, 12))\n",
        "\n",
        "    # Side Effects\n",
        "    side_effects_heading = Paragraph(\"<b>Side Effects:</b>\", header_style)\n",
        "    side_effects_list = drug_info[[col for col in drug_info.columns if 'sideEffect' in col]].dropna(axis=1).values[0]\n",
        "    story.append(side_effects_heading)\n",
        "    for side_effect in side_effects_list:\n",
        "        story.append(Paragraph(side_effect, normal_style))\n",
        "    story.append(Spacer(1, 12))\n",
        "\n",
        "    # Chemical Class\n",
        "    chemical_class_heading = Paragraph(\"<b>Chemical Class:</b>\", header_style)\n",
        "    chemical_class_value = drug_info['Chemical Class'].values[0] if pd.notna(drug_info['Chemical Class'].values[0]) else \"Not Available\"\n",
        "    chemical_class_content = Paragraph(chemical_class_value, normal_style)\n",
        "    story.append(chemical_class_heading)\n",
        "    story.append(chemical_class_content)\n",
        "    story.append(Spacer(1, 12))\n",
        "\n",
        "    # Habit Forming\n",
        "    habit_forming_heading = Paragraph(\"<b>Habit Forming:</b>\", header_style)\n",
        "    habit_forming_content = Paragraph(str(drug_info['Habit Forming'].values[0]), normal_style)\n",
        "    story.append(habit_forming_heading)\n",
        "    story.append(habit_forming_content)\n",
        "    story.append(Spacer(1, 12))\n",
        "\n",
        "    # Therapeutic Class\n",
        "    therapeutic_class_heading = Paragraph(\"<b>Therapeutic Class:</b>\", header_style)\n",
        "    therapeutic_class_content = Paragraph(str(drug_info['Therapeutic Class'].values[0]), normal_style)\n",
        "    story.append(therapeutic_class_heading)\n",
        "    story.append(therapeutic_class_content)\n",
        "    story.append(Spacer(1, 12))\n",
        "\n",
        "    # Action Class\n",
        "    action_class_heading = Paragraph(\"<b>Action Class:</b>\", header_style)\n",
        "    action_class_value = drug_info['Action Class'].values[0] if pd.notna(drug_info['Action Class'].values[0]) else \"Not Available\"\n",
        "    action_class_content = Paragraph(action_class_value, normal_style)\n",
        "    story.append(action_class_heading)\n",
        "    story.append(action_class_content)\n",
        "    story.append(Spacer(1, 12))\n",
        "\n",
        "    # Function to add the first page background\n",
        "    def add_first_page_background(canvas, doc):\n",
        "        canvas.drawImage(background_image_first_page_path, 0, 0, width=letter[0], height=letter[1])\n",
        "\n",
        "    # Function to add the other pages background\n",
        "    def add_other_pages_background(canvas, doc):\n",
        "        canvas.drawImage(background_image_other_pages_path, 0, 0, width=letter[0], height=letter[1])\n",
        "\n",
        "    # Define the white space frame and move the text slightly up\n",
        "    frame = Frame(inch, 3 * inch, letter[0] - 2 * inch, letter[1] - 3.5 * inch, id='white_space_frame')\n",
        "\n",
        "    # Define the page templates with background and frame\n",
        "    first_page_template = PageTemplate(id='FirstPage', frames=[frame], onPage=add_first_page_background)\n",
        "    other_pages_template = PageTemplate(id='OtherPages', frames=[frame], onPage=add_other_pages_background)\n",
        "    doc.addPageTemplates([first_page_template, other_pages_template])\n",
        "\n",
        "    # Build the PDF\n",
        "    doc.build(story)\n",
        "\n",
        "    print(f\"PDF report generated: {file_name}\")\n",
        "\n",
        "drug_name = input(\"Enter the drug name: \")\n",
        "generate_pdf_report(drug_name)"
      ]
    },
    {
      "cell_type": "code",
      "source": [],
      "metadata": {
        "id": "ogbC6TOi-yH3"
      },
      "execution_count": null,
      "outputs": []
    }
  ]
}